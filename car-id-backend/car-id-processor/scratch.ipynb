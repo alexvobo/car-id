{
 "metadata": {
  "language_info": {
   "codemirror_mode": {
    "name": "ipython",
    "version": 3
   },
   "file_extension": ".py",
   "mimetype": "text/x-python",
   "name": "python",
   "nbconvert_exporter": "python",
   "pygments_lexer": "ipython3",
   "version": "3.7.9-final"
  },
  "orig_nbformat": 2,
  "kernelspec": {
   "name": "python3",
   "display_name": "Python 3"
  }
 },
 "nbformat": 4,
 "nbformat_minor": 2,
 "cells": [
  {
   "cell_type": "code",
   "execution_count": 21,
   "metadata": {},
   "outputs": [],
   "source": [
    "from pathlib import Path\n",
    "import os"
   ]
  },
  {
   "cell_type": "code",
   "execution_count": 10,
   "metadata": {},
   "outputs": [
    {
     "output_type": "execute_result",
     "data": {
      "text/plain": "WindowsPath('D:/Machine Learning/train/volkswagen_cc_2012-2017')"
     },
     "metadata": {},
     "execution_count": 10
    }
   ],
   "source": []
  },
  {
   "cell_type": "code",
   "execution_count": null,
   "metadata": {},
   "outputs": [],
   "source": []
  },
  {
   "cell_type": "code",
   "execution_count": 22,
   "metadata": {},
   "outputs": [],
   "source": [
    "def make_path(parent_folder, folder_name, index):\n",
    "    return parent_folder+\"/\" + folder_name+\"_\"+index+\".jpg\"\n"
   ]
  },
  {
   "cell_type": "code",
   "execution_count": 67,
   "metadata": {
    "tags": []
   },
   "outputs": [],
   "source": [
    "with open(\"C:/Users/Alex/Documents/React APPS/car-id/car-id-backend/car-id-processor/errorlog/errorlog2.txt\", \"r+\") as f:\n",
    "    files = [Path(p) for p in f.read().splitlines() if str(p) != \"\"]\n",
    "    for file in files:\n",
    "        if os.path.exists(file):\n",
    "            os.remove(file)\n",
    "\n"
   ]
  },
  {
   "cell_type": "code",
   "execution_count": 35,
   "metadata": {
    "tags": []
   },
   "outputs": [],
   "source": [
    "# pics = list(d.iterdir())\n",
    "# num_total = len(pics)\n",
    "# paths_to_fix = [p for i,p in enumerate(pics) if \"(\" in str(p)]\n",
    "# num_broken = len(paths_to_fix)\n",
    "\n",
    "# num_to_start = num_total-num_broken\n",
    "\n",
    "# paths_to_fix\n",
    "\n",
    "# for p in paths_to_fix:\n",
    "#     folder_name = str(p).split('\\\\')[-2]\n",
    "#     os.rename(p, make_path(str(d),folder_name,str(num_to_start)))\n",
    "#     num_to_start+=1\n",
    "#print(\"%d %d start: %d\" %(num_total,num_broken,num_to_start))"
   ]
  },
  {
   "cell_type": "code",
   "execution_count": null,
   "metadata": {},
   "outputs": [],
   "source": []
  }
 ]
}